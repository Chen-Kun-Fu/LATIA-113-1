{
  "nbformat": 4,
  "nbformat_minor": 0,
  "metadata": {
    "colab": {
      "provenance": [],
      "gpuType": "T4"
    },
    "kernelspec": {
      "name": "python3",
      "display_name": "Python 3"
    },
    "language_info": {
      "name": "python"
    },
    "accelerator": "GPU"
  },
  "cells": [
    {
      "cell_type": "code",
      "execution_count": null,
      "metadata": {
        "id": "TcAGqSviQXe4"
      },
      "outputs": [],
      "source": []
    },
    {
      "cell_type": "code",
      "source": [
        "a=1\n",
        "print(a)"
      ],
      "metadata": {
        "colab": {
          "base_uri": "https://localhost:8080/"
        },
        "id": "1bmh07i6Qri4",
        "outputId": "dc156dbf-7cd7-4508-8c75-889807d798c9"
      },
      "execution_count": null,
      "outputs": [
        {
          "output_type": "stream",
          "name": "stdout",
          "text": [
            "1\n"
          ]
        }
      ]
    },
    {
      "cell_type": "code",
      "source": [
        "print(\"'1233'\")"
      ],
      "metadata": {
        "colab": {
          "base_uri": "https://localhost:8080/"
        },
        "id": "L8lTZ6pfUb9-",
        "outputId": "050141fe-4621-44d0-c3fb-43b03f1183f4"
      },
      "execution_count": null,
      "outputs": [
        {
          "output_type": "stream",
          "name": "stdout",
          "text": [
            "'1233'\n"
          ]
        }
      ]
    },
    {
      "cell_type": "code",
      "source": [
        "a='0123456789abcd'\n",
        "print(a[8])\n"
      ],
      "metadata": {
        "colab": {
          "base_uri": "https://localhost:8080/",
          "height": 0
        },
        "id": "sLN0CzFyUmyb",
        "outputId": "aa79e543-0aec-498b-f177-c7653689b0d5"
      },
      "execution_count": 1,
      "outputs": [
        {
          "output_type": "stream",
          "name": "stdout",
          "text": [
            "8\n"
          ]
        }
      ]
    },
    {
      "cell_type": "code",
      "source": [
        "t = ('apple','banana','orange','grap')\n",
        "a,b,c,d=t\n",
        "print(a)"
      ],
      "metadata": {
        "colab": {
          "base_uri": "https://localhost:8080/",
          "height": 0
        },
        "id": "8U-R4LwWoQak",
        "outputId": "ec92a348-5519-48f1-a217-e4e2a87621f2"
      },
      "execution_count": 2,
      "outputs": [
        {
          "output_type": "stream",
          "name": "stdout",
          "text": [
            "apple\n"
          ]
        }
      ]
    },
    {
      "cell_type": "code",
      "source": [
        "print(a)\n",
        "print(b)\n",
        "print(c)\n",
        "print(d)\n"
      ],
      "metadata": {
        "colab": {
          "base_uri": "https://localhost:8080/",
          "height": 0
        },
        "id": "hum9bacdo_uQ",
        "outputId": "07e53900-e9b1-424b-b085-444beb246783"
      },
      "execution_count": 3,
      "outputs": [
        {
          "output_type": "stream",
          "name": "stdout",
          "text": [
            "apple\n",
            "banana\n",
            "orange\n",
            "grap\n"
          ]
        }
      ]
    },
    {
      "cell_type": "code",
      "source": [
        "a = set()\n",
        "b = set([1,2,3,4,5,1,2,3,4,5])\n",
        "c = set({'x':1,'y':2,'z':3})\n",
        "d = set('hello')\n",
        "print(a)\n",
        "print(b)\n",
        "print(c)\n",
        "print(d)"
      ],
      "metadata": {
        "colab": {
          "base_uri": "https://localhost:8080/",
          "height": 0
        },
        "id": "Cq1PfVrjpYEU",
        "outputId": "927aac8f-0a97-4b72-a1d2-e73a93b01fde"
      },
      "execution_count": 4,
      "outputs": [
        {
          "output_type": "stream",
          "name": "stdout",
          "text": [
            "set()\n",
            "{1, 2, 3, 4, 5}\n",
            "{'x', 'z', 'y'}\n",
            "{'e', 'h', 'o', 'l'}\n"
          ]
        }
      ]
    },
    {
      "cell_type": "code",
      "source": [
        "a = 2\n",
        "b = 3\n",
        "if a>b:\n",
        "  print('hollow')\n",
        "else :\n",
        "  print('world')\n",
        "print('ok')\n"
      ],
      "metadata": {
        "colab": {
          "base_uri": "https://localhost:8080/",
          "height": 0
        },
        "id": "gly4of1-ps9Y",
        "outputId": "1d6ce6db-e379-4c27-b940-71a248fc330d"
      },
      "execution_count": 6,
      "outputs": [
        {
          "output_type": "stream",
          "name": "stdout",
          "text": [
            "world\n",
            "ok\n"
          ]
        }
      ]
    },
    {
      "cell_type": "code",
      "source": [
        "a = 2\n",
        "b = 3\n",
        "if a<b:\n",
        "  print ('a<b')\n",
        "  if a==1:\n",
        "    print('a=1')\n",
        "  elif a==2:\n",
        "    print('a=2')\n",
        "  elif a==3:\n",
        "    print('a=3')\n",
        "elif a>b:\n",
        "  print('a>b')\n",
        "else:\n",
        "  print('a=b')"
      ],
      "metadata": {
        "colab": {
          "base_uri": "https://localhost:8080/"
        },
        "id": "4NSwiKIXqpJy",
        "outputId": "6679b992-ff3c-4232-b8d2-4b7df9ef1478"
      },
      "execution_count": 10,
      "outputs": [
        {
          "output_type": "stream",
          "name": "stdout",
          "text": [
            "a<b\n",
            "a=2\n"
          ]
        }
      ]
    },
    {
      "cell_type": "code",
      "source": [
        "from re import I\n",
        "i=[]\n",
        "for t in range(10):\n",
        "  t+=1\n",
        "  i.append(t)\n",
        "i"
      ],
      "metadata": {
        "colab": {
          "base_uri": "https://localhost:8080/"
        },
        "id": "X9NuCexasAgC",
        "outputId": "764b0d36-e80f-4a84-b484-75fb0e15273d"
      },
      "execution_count": 13,
      "outputs": [
        {
          "output_type": "execute_result",
          "data": {
            "text/plain": [
              "[1, 2, 3, 4, 5, 6, 7, 8, 9, 10]"
            ]
          },
          "metadata": {},
          "execution_count": 13
        }
      ]
    },
    {
      "cell_type": "code",
      "source": [],
      "metadata": {
        "id": "mieCp0cbt5g3"
      },
      "execution_count": null,
      "outputs": []
    }
  ]
}