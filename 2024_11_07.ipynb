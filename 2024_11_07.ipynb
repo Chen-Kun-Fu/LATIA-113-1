{
  "nbformat": 4,
  "nbformat_minor": 0,
  "metadata": {
    "colab": {
      "provenance": []
    },
    "kernelspec": {
      "name": "python3",
      "display_name": "Python 3"
    },
    "language_info": {
      "name": "python"
    }
  },
  "cells": [
    {
      "cell_type": "code",
      "execution_count": 1,
      "metadata": {
        "id": "ngPBtb9U6f-q",
        "colab": {
          "base_uri": "https://localhost:8080/"
        },
        "outputId": "e933c5df-5a82-4c5e-c29e-600807a6c53e"
      },
      "outputs": [
        {
          "output_type": "stream",
          "name": "stdout",
          "text": [
            "                            OLS Regression Results                            \n",
            "==============================================================================\n",
            "Dep. Variable:                      B   R-squared:                       0.017\n",
            "Model:                            OLS   Adj. R-squared:                  0.007\n",
            "Method:                 Least Squares   F-statistic:                     1.706\n",
            "Date:                Thu, 07 Nov 2024   Prob (F-statistic):              0.195\n",
            "Time:                        09:21:11   Log-Likelihood:                -144.92\n",
            "No. Observations:                 100   AIC:                             293.8\n",
            "Df Residuals:                      98   BIC:                             299.1\n",
            "Df Model:                           1                                         \n",
            "Covariance Type:            nonrobust                                         \n",
            "==============================================================================\n",
            "                 coef    std err          t      P>|t|      [0.025      0.975]\n",
            "------------------------------------------------------------------------------\n",
            "const         -0.1066      0.104     -1.022      0.309      -0.314       0.100\n",
            "A             -0.1358      0.104     -1.306      0.195      -0.342       0.071\n",
            "==============================================================================\n",
            "Omnibus:                        0.746   Durbin-Watson:                   2.116\n",
            "Prob(Omnibus):                  0.689   Jarque-Bera (JB):                0.639\n",
            "Skew:                           0.194   Prob(JB):                        0.726\n",
            "Kurtosis:                       2.951   Cond. No.                         1.06\n",
            "==============================================================================\n",
            "\n",
            "Notes:\n",
            "[1] Standard Errors assume that the covariance matrix of the errors is correctly specified.\n"
          ]
        }
      ],
      "source": [
        "import pandas as pd\n",
        "import statsmodels.api as sm\n",
        "import numpy as np\n",
        "\n",
        "df2 = pd.DataFrame(np.random.randn(100, 4), columns=list(\"ABCD\"))\n",
        "X = df2['A']\n",
        "y = df2['B']\n",
        "# Add a constant to the model (for the intercept term)\n",
        "X = sm.add_constant(X)\n",
        "X\n",
        "# Fit the regression model\n",
        "model = sm.OLS(y, X).fit()\n",
        "\n",
        "# Display the regression results\n",
        "print(model.summary())\n",
        "\n"
      ]
    },
    {
      "cell_type": "code",
      "source": [],
      "metadata": {
        "id": "vKwIxhPD6nAk"
      },
      "execution_count": null,
      "outputs": []
    }
  ]
}